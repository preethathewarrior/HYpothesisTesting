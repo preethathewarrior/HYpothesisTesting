{
 "cells": [
  {
   "cell_type": "markdown",
   "id": "7d4c140c",
   "metadata": {},
   "source": [
    "#### 1.Suppose a child psychologist says that the average time that working mothers spend talking to their children is at-least 11 minutes per day. You want to test\n",
    "#### You conduct a random sample of 1000 working mothers and find they spend an average of 11.5 minutes per day talking with their children. Assume prior research suggests the population standard deviation is 2.3 minutes.\n",
    "\n",
    "#### Conduct test with a level of significance of alpha=0.05"
   ]
  },
  {
   "cell_type": "code",
   "execution_count": 4,
   "id": "3e59ed1e",
   "metadata": {},
   "outputs": [],
   "source": [
    "#H0 less than or equalto 11\n",
    "# assume that H0 = 11\n",
    "#Ha = 11.5\n",
    "#Here Ha > H0 , one tailed,right Tail\n",
    "#population= 1000\n",
    "#standard deviation=2.3"
   ]
  },
  {
   "cell_type": "code",
   "execution_count": 2,
   "id": "e9a07524",
   "metadata": {},
   "outputs": [
    {
     "data": {
      "text/plain": [
       "0.2173913043478261"
      ]
     },
     "execution_count": 2,
     "metadata": {},
     "output_type": "execute_result"
    }
   ],
   "source": [
    "# here alpha = 0.05 \n",
    "# so the critical value is = 1.645\n",
    "Z= (11.5- 11)/2.3\n",
    "Z"
   ]
  },
  {
   "cell_type": "code",
   "execution_count": 20,
   "id": "0ccc6177",
   "metadata": {},
   "outputs": [
    {
     "name": "stdout",
     "output_type": "stream",
     "text": [
      "H0 Score is Accepted\n"
     ]
    }
   ],
   "source": [
    "c=1.645\n",
    "if Z>c:\n",
    "    print(\"H0 Score is Rejected\")\n",
    "else:\n",
    "    print(\"H0 Score is Accepted\")\n"
   ]
  },
  {
   "cell_type": "code",
   "execution_count": null,
   "id": "6e2aa457",
   "metadata": {},
   "outputs": [],
   "source": []
  },
  {
   "cell_type": "code",
   "execution_count": null,
   "id": "89bc4c96",
   "metadata": {},
   "outputs": [],
   "source": []
  },
  {
   "cell_type": "markdown",
   "id": "fd76b695",
   "metadata": {},
   "source": [
    "#### 2.A coffee shop claims that their average wait time for customers is less than 5 minutes. To test this claim, a sample of 40 customers is taken, and their wait times are recorded. The sample mean wait time is found to be 4.6 minutes with a standard deviation of 0.8 minutes. Perform a hypothesis test at a significance level of 0.05 and determine whether there is enough evidence to support the coffee shop's claim.\n",
    "\n",
    "\n",
    "#### Perform the hypothesis testing using correct test statistics and appropriate critical value"
   ]
  },
  {
   "cell_type": "code",
   "execution_count": 6,
   "id": "8c7d5df4",
   "metadata": {},
   "outputs": [],
   "source": [
    "# H0 < 5minutes\n",
    "# Sample = 40\n",
    "# Ha = 4.6 minutes\n",
    "# SD = 0.8 minutes\n",
    "# Alpha = 0.05\n",
    "# here Ha < H0( one -Tailed Test,left Tail)\n",
    "# here critical value = -1.645"
   ]
  },
  {
   "cell_type": "code",
   "execution_count": 16,
   "id": "0c3bb238",
   "metadata": {},
   "outputs": [
    {
     "data": {
      "text/plain": [
       "-0.5000000000000004"
      ]
     },
     "execution_count": 16,
     "metadata": {},
     "output_type": "execute_result"
    }
   ],
   "source": [
    "Z1= (4.6-5)/0.8\n",
    "Z1"
   ]
  },
  {
   "cell_type": "code",
   "execution_count": 24,
   "id": "6b2cce5d",
   "metadata": {},
   "outputs": [
    {
     "name": "stdout",
     "output_type": "stream",
     "text": [
      "H0 Score is Accepted\n"
     ]
    }
   ],
   "source": [
    "c=-1.645\n",
    "if Z1>c:\n",
    "    print(\"H0 Score is Accepted\")\n",
    "else:\n",
    "    print(\"H0 Score is Rejected\")\n"
   ]
  },
  {
   "cell_type": "code",
   "execution_count": null,
   "id": "c84083a1",
   "metadata": {},
   "outputs": [],
   "source": []
  }
 ],
 "metadata": {
  "kernelspec": {
   "display_name": "Python 3 (ipykernel)",
   "language": "python",
   "name": "python3"
  },
  "language_info": {
   "codemirror_mode": {
    "name": "ipython",
    "version": 3
   },
   "file_extension": ".py",
   "mimetype": "text/x-python",
   "name": "python",
   "nbconvert_exporter": "python",
   "pygments_lexer": "ipython3",
   "version": "3.11.2"
  }
 },
 "nbformat": 4,
 "nbformat_minor": 5
}
